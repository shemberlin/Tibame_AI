{
 "nbformat": 4,
 "nbformat_minor": 0,
 "metadata": {
  "kernelspec": {
   "display_name": "Python 3",
   "language": "python",
   "name": "python3"
  },
  "language_info": {
   "codemirror_mode": {
    "name": "ipython",
    "version": 3
   },
   "file_extension": ".py",
   "mimetype": "text/x-python",
   "name": "python",
   "nbconvert_exporter": "python",
   "pygments_lexer": "ipython3",
   "version": "3.6.6"
  },
  "colab": {
   "name": "yolo-display.ipynb",
   "provenance": [
    {
     "file_id": "1OSnvzHTKbMyWXjvIKgrCtzaW8Z49Ki53",
     "timestamp": 1604646932292
    }
   ],
   "collapsed_sections": []
  },
  "accelerator": "GPU"
 },
 "cells": [
  {
   "cell_type": "code",
   "metadata": {
    "id": "3j6G0OwV5o2m",
    "colab": {
     "base_uri": "https://localhost:8080/"
    },
    "executionInfo": {
     "status": "ok",
     "timestamp": 1606112393598,
     "user_tz": -480,
     "elapsed": 1805,
     "user": {
      "displayName": "林鉉博",
      "photoUrl": "",
      "userId": "01805087107740892411"
     }
    },
    "outputId": "f20b453d-023d-4096-f8e1-1692430b756d"
   },
   "source": [
    "%tensorflow_version 1.x"
   ],
   "execution_count": 32,
   "outputs": [
    {
     "name": "stderr",
     "output_type": "stream",
     "text": [
      "UsageError: Line magic function `%tensorflow_version` not found.\n"
     ]
    }
   ]
  },
  {
   "cell_type": "code",
   "metadata": {
    "id": "huF2XLsBbb3H",
    "executionInfo": {
     "status": "ok",
     "timestamp": 1606112394223,
     "user_tz": -480,
     "elapsed": 2424,
     "user": {
      "displayName": "林鉉博",
      "photoUrl": "",
      "userId": "01805087107740892411"
     }
    }
   },
   "source": [
    "# import zipfile\n",
    "# f=zipfile.ZipFile(\"drive/My Drive/smart_fish/fish3_l.zip\")\n",
    "# f.extractall()"
   ],
   "execution_count": null,
   "outputs": []
  },
  {
   "cell_type": "code",
   "metadata": {
    "id": "6vDEwQLDESQf",
    "executionInfo": {
     "status": "ok",
     "timestamp": 1606112394224,
     "user_tz": -480,
     "elapsed": 2419,
     "user": {
      "displayName": "林鉉博",
      "photoUrl": "",
      "userId": "01805087107740892411"
     }
    }
   },
   "source": [
    "# import glob\n",
    "# fish=glob.glob(\"fish3/img/*.png\")"
   ],
   "execution_count": null,
   "outputs": []
  },
  {
   "cell_type": "code",
   "metadata": {
    "id": "v_ep_Q8NNLY8",
    "colab": {
     "base_uri": "https://localhost:8080/"
    },
    "executionInfo": {
     "status": "ok",
     "timestamp": 1606112394224,
     "user_tz": -480,
     "elapsed": 2413,
     "user": {
      "displayName": "林鉉博",
      "photoUrl": "",
      "userId": "01805087107740892411"
     }
    },
    "outputId": "7289518c-7681-43df-976d-6c983dc157cf"
   },
   "source": [
    "from google.colab import drive\n",
    "drive.mount('/content/drive/')"
   ],
   "execution_count": null,
   "outputs": []
  },
  {
   "cell_type": "code",
   "metadata": {
    "id": "Wg_w1R1gO6Ou",
    "executionInfo": {
     "status": "ok",
     "timestamp": 1606112394225,
     "user_tz": -480,
     "elapsed": 2408,
     "user": {
      "displayName": "林鉉博",
      "photoUrl": "",
      "userId": "01805087107740892411"
     }
    }
   },
   "source": [
    "import sys\n",
    "FOLDER_PATH = '/content/drive/MyDrive/Colab Notebooks/Yolo_v3'\n",
    "sys.path.append(FOLDER_PATH)"
   ],
   "execution_count": null,
   "outputs": []
  },
  {
   "cell_type": "code",
   "metadata": {
    "id": "j7P0FPC9ZOYO",
    "executionInfo": {
     "status": "ok",
     "timestamp": 1606112394225,
     "user_tz": -480,
     "elapsed": 2404,
     "user": {
      "displayName": "林鉉博",
      "photoUrl": "",
      "userId": "01805087107740892411"
     }
    }
   },
   "source": [
    "# import glob\n",
    "# fish1=[]\n",
    "# for i in range(2):\n",
    "#   fish1=fish1+glob.glob(f\"/content/drive/My Drive/smart_fish/fish1/img{str(i)}/*.png\")\n",
    "#   print(f\"/content/drive/My Drive/smart_fish/fish1/img{str(i)}/*.img\")\n",
    "# print(fish1)"
   ],
   "execution_count": null,
   "outputs": []
  },
  {
   "cell_type": "code",
   "metadata": {
    "id": "7_R_D3a9NFcA",
    "colab": {
     "base_uri": "https://localhost:8080/"
    },
    "executionInfo": {
     "status": "ok",
     "timestamp": 1606112394226,
     "user_tz": -480,
     "elapsed": 2400,
     "user": {
      "displayName": "林鉉博",
      "photoUrl": "",
      "userId": "01805087107740892411"
     }
    },
    "outputId": "3d9810e0-1d6c-4dab-945e-0fd0a99cc339"
   },
   "source": [
    "import numpy as np\n",
    "import keras.backend as K\n",
    "from keras.layers import Input, Lambda\n",
    "from train import yolo_body, get_anchors, create_model, get_classes\n",
    "from yolo import YOLO\n",
    "import cv2\n",
    "from PIL import Image\n",
    "import matplotlib.pyplot as plt\n",
    "from glob import glob\n",
    "import os"
   ],
   "execution_count": 1,
   "outputs": [
    {
     "name": "stderr",
     "output_type": "stream",
     "text": [
      "Using TensorFlow backend.\n"
     ]
    }
   ]
  },
  {
   "cell_type": "code",
   "metadata": {
    "id": "E7xtUKubNFcD",
    "colab": {
     "base_uri": "https://localhost:8080/"
    },
    "executionInfo": {
     "status": "ok",
     "timestamp": 1606112396713,
     "user_tz": -480,
     "elapsed": 4881,
     "user": {
      "displayName": "林鉉博",
      "photoUrl": "",
      "userId": "01805087107740892411"
     }
    },
    "outputId": "e0784916-53cd-444e-a257-044135aa007c"
   },
   "source": [
    "classes_path = './model_data/bccd_classes.txt'\n",
    "class_names = get_classes(classes_path)\n",
    "num_classes = len(class_names)\n",
    "anchors_path = './model_data/tiny_yolo_anchors.txt'\n",
    "anchors = get_anchors(anchors_path)\n",
    "\n",
    "yolo = YOLO(model_path='./h5/2020_11_22_02:50:39/weight/weight_ep053-loss5.014-val_loss3.843.h5',\n",
    "            classes_path=classes_path,\n",
    "            anchors_path=anchors_path)"
   ],
   "execution_count": 2,
   "outputs": [
    {
     "name": "stdout",
     "output_type": "stream",
     "text": [
      "WARNING:tensorflow:From /home/roy/.local/share/virtualenvs/Yolo_v3-6crAK5Mp/lib/python3.6/site-packages/tensorflow_core/python/ops/resource_variable_ops.py:1630: calling BaseResourceVariable.__init__ (from tensorflow.python.ops.resource_variable_ops) with constraint is deprecated and will be removed in a future version.\n",
      "Instructions for updating:\n",
      "If using Keras pass *_constraint arguments to layers.\n",
      "WARNING:tensorflow:From /home/roy/.local/share/virtualenvs/Yolo_v3-6crAK5Mp/lib/python3.6/site-packages/keras/backend/tensorflow_backend.py:4070: The name tf.nn.max_pool is deprecated. Please use tf.nn.max_pool2d instead.\n",
      "\n",
      "./h5/2020_11_22_02:50:39/model/model_ep053-loss5.014-val_loss3.843.h5 model, anchors, and classes loaded.\n",
      "WARNING:tensorflow:From /home/roy/.local/share/virtualenvs/Yolo_v3-6crAK5Mp/lib/python3.6/site-packages/tensorflow_core/python/ops/array_ops.py:1475: where (from tensorflow.python.ops.array_ops) is deprecated and will be removed in a future version.\n",
      "Instructions for updating:\n",
      "Use tf.where in 2.0, which has the same broadcast rule as np.where\n"
     ]
    }
   ]
  },
  {
   "cell_type": "code",
   "metadata": {
    "id": "XIMfQuobNFcG",
    "colab": {
     "base_uri": "https://localhost:8080/",
     "height": 458
    },
    "executionInfo": {
     "status": "ok",
     "timestamp": 1606113553064,
     "user_tz": -480,
     "elapsed": 2577,
     "user": {
      "displayName": "林鉉博",
      "photoUrl": "",
      "userId": "01805087107740892411"
     }
    },
    "outputId": "0b0c7970-8d7c-49ae-d904-ecfc36d22b17",
    "pycharm": {
     "name": "#%%\n"
    }
   },
   "source": [
    "\n",
    "path = np.random.choice(glob('./dataset/test_data(label)/fish_remix2/img/00000024.png'),1)[0]\n",
    "for i in range(1):\n",
    "\n",
    "    image = Image.open(path)\n",
    "    r_image = yolo.detect_image(image)\n",
    "    result = np.array(r_image)\n",
    "# print(path)\n",
    "    image = Image.open(path)\n",
    "    r_image = yolo.detect_image(image)\n",
    "    r_image.c1\n",
    "\n",
    "# print(r_image)\n",
    "#  r_image.show()\n",
    "# plt.imshow(r_image)"
   ],
   "execution_count": 3,
   "outputs": [
    {
     "name": "stdout",
     "output_type": "stream",
     "text": [
      "(1920, 1080) (416, 416)\n",
      "(416, 416, 3)\n",
      "Found 3 boxes for img\n",
      "['clownfish1', 0.9676101, 989, 559, 1342, 831]\n",
      "c1\n",
      "c2\n",
      "0.5371389940264635\n",
      "(1920, 1080) (416, 416)\n",
      "(416, 416, 3)\n",
      "Found 3 boxes for img\n",
      "['clownfish1', 0.9676101, 989, 559, 1342, 831]\n",
      "c1\n",
      "c2\n",
      "0.23588923102943227\n"
     ]
    }
   ]
  },
  {
   "cell_type": "code",
   "metadata": {
    "colab": {
     "base_uri": "https://localhost:8080/",
     "height": 613,
     "output_embedded_package_id": "1qOOGflQ6ejGF_hAzJ8o5YfTYMFalgkFd"
    },
    "id": "efBdQt1GnzCH",
    "executionInfo": {
     "status": "ok",
     "timestamp": 1606113452764,
     "user_tz": -480,
     "elapsed": 7176,
     "user": {
      "displayName": "林鉉博",
      "photoUrl": "",
      "userId": "01805087107740892411"
     }
    },
    "outputId": "90f2231c-938a-4576-ddfa-487b1b50e1dd"
   },
   "source": [
    "\n"
   ],
   "execution_count": null,
   "outputs": []
  },
  {
   "cell_type": "code",
   "metadata": {
    "id": "tY8AfwaloRiv",
    "executionInfo": {
     "status": "ok",
     "timestamp": 1606112406329,
     "user_tz": -480,
     "elapsed": 14475,
     "user": {
      "displayName": "林鉉博",
      "photoUrl": "",
      "userId": "01805087107740892411"
     }
    }
   },
   "source": [
    "with open('./mAP/test.txt', 'w') as file:\n",
    "    if r_image.c1!=[]:\n",
    "        file.write(c1[0]+' '+str(c1[1])+' '+str(c1[2])+' '+str(c1[3])+' '+str(c1[4])+' '+str(c1[5])+'\\n')\n",
    "    if r_image.c2!=[]:\n",
    "        file.write(c2[0]+' '+str(c2[1])+' '+str(c2[2])+' '+str(c2[3])+' '+str(c2[4])+' '+str(c2[5])+'\\n')\n",
    "    if r_image.c3!=[]:\n",
    "        file.write(c3[0]+' '+str(c3[1])+' '+str(c3[2])+' '+str(c3[3])+' '+str(c3[4])+' '+str(c3[5]))"
   ],
   "execution_count": 14,
   "outputs": []
  },
  {
   "cell_type": "code",
   "metadata": {
    "id": "5Q5S5FTFNFcI",
    "executionInfo": {
     "status": "ok",
     "timestamp": 1606112406330,
     "user_tz": -480,
     "elapsed": 14473,
     "user": {
      "displayName": "林鉉博",
      "photoUrl": "",
      "userId": "01805087107740892411"
     }
    },
    "pycharm": {
     "name": "#%%c\n"
    }
   },
   "source": [
    ""
   ],
   "execution_count": null,
   "outputs": []
  },
  {
   "cell_type": "code",
   "metadata": {
    "id": "A0B_plIM6ZPC",
    "executionInfo": {
     "status": "ok",
     "timestamp": 1606112406331,
     "user_tz": -480,
     "elapsed": 14467,
     "user": {
      "displayName": "林鉉博",
      "photoUrl": "",
      "userId": "01805087107740892411"
     }
    }
   },
   "source": [
    ""
   ],
   "execution_count": null,
   "outputs": []
  },
  {
   "cell_type": "code",
   "metadata": {
    "id": "rzevBiO17RRp",
    "executionInfo": {
     "status": "ok",
     "timestamp": 1606112406332,
     "user_tz": -480,
     "elapsed": 14464,
     "user": {
      "displayName": "林鉉博",
      "photoUrl": "",
      "userId": "01805087107740892411"
     }
    }
   },
   "source": [
    ""
   ],
   "execution_count": null,
   "outputs": []
  }
 ]
}